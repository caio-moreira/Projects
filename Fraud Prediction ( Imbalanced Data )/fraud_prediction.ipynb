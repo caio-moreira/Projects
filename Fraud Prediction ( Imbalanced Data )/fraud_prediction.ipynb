{
 "cells": [
  {
   "cell_type": "markdown",
   "metadata": {},
   "source": [
    "## Fraud Challenge"
   ]
  },
  {
   "cell_type": "markdown",
   "metadata": {},
   "source": [
    "The goal of this notebook is to analyze the data from fraud.csv and, from it, understand how do the columns relate in order to classify a transaction as a fraud (1) or no (0).\n",
    "\n",
    "So the ultimate goal is to maximize the Recall value for our classifiers, so that we minimize the occurences of false negatives, the worst error, in this scenario, because it would allow a fraud to happen."
   ]
  },
  {
   "cell_type": "markdown",
   "metadata": {},
   "source": [
    "### Importing Libs"
   ]
  },
  {
   "cell_type": "code",
   "execution_count": 1,
   "metadata": {},
   "outputs": [],
   "source": [
    "import pandas as pd\n",
    "import matplotlib.pyplot as plt\n",
    "import seaborn as sns\n",
    "import numpy as np\n",
    "from itertools import compress\n",
    "from sklearn.preprocessing import MinMaxScaler\n",
    "from sklearn.model_selection import train_test_split\n",
    "from sklearn.metrics import confusion_matrix, ConfusionMatrixDisplay\n",
    "from sklearn.metrics import f1_score, precision_score, recall_score, accuracy_score, roc_auc_score\n",
    "from sklearn.feature_selection import RFECV\n",
    "from sklearn.linear_model import LogisticRegression\n",
    "from sklearn.ensemble import RandomForestClassifier\n",
    "from imblearn.combine import SMOTEENN"
   ]
  },
  {
   "cell_type": "markdown",
   "metadata": {},
   "source": [
    "## Data Preprocessing"
   ]
  },
  {
   "cell_type": "markdown",
   "metadata": {},
   "source": [
    "Loading the dataset."
   ]
  },
  {
   "cell_type": "code",
   "execution_count": 2,
   "metadata": {},
   "outputs": [
    {
     "name": "stdout",
     "output_type": "stream",
     "text": [
      "(150000, 31)\n"
     ]
    },
    {
     "data": {
      "text/html": [
       "<div>\n",
       "<style scoped>\n",
       "    .dataframe tbody tr th:only-of-type {\n",
       "        vertical-align: middle;\n",
       "    }\n",
       "\n",
       "    .dataframe tbody tr th {\n",
       "        vertical-align: top;\n",
       "    }\n",
       "\n",
       "    .dataframe thead th {\n",
       "        text-align: right;\n",
       "    }\n",
       "</style>\n",
       "<table border=\"1\" class=\"dataframe\">\n",
       "  <thead>\n",
       "    <tr style=\"text-align: right;\">\n",
       "      <th></th>\n",
       "      <th>Occurrence</th>\n",
       "      <th>PP1</th>\n",
       "      <th>PP2</th>\n",
       "      <th>PP3</th>\n",
       "      <th>PP4</th>\n",
       "      <th>PP5</th>\n",
       "      <th>PP6</th>\n",
       "      <th>PP7</th>\n",
       "      <th>PP8</th>\n",
       "      <th>PP9</th>\n",
       "      <th>...</th>\n",
       "      <th>PP21</th>\n",
       "      <th>PP22</th>\n",
       "      <th>PP23</th>\n",
       "      <th>PP24</th>\n",
       "      <th>PP25</th>\n",
       "      <th>PP26</th>\n",
       "      <th>PP27</th>\n",
       "      <th>PP28</th>\n",
       "      <th>Withdrawal</th>\n",
       "      <th>Fraud</th>\n",
       "    </tr>\n",
       "  </thead>\n",
       "  <tbody>\n",
       "    <tr>\n",
       "      <th>0</th>\n",
       "      <td>-44299.0</td>\n",
       "      <td>-1.239996</td>\n",
       "      <td>0.985194</td>\n",
       "      <td>-1.005080</td>\n",
       "      <td>0.251323</td>\n",
       "      <td>0.872854</td>\n",
       "      <td>-1.677811</td>\n",
       "      <td>1.451311</td>\n",
       "      <td>-0.478908</td>\n",
       "      <td>-0.009459</td>\n",
       "      <td>...</td>\n",
       "      <td>0.387768</td>\n",
       "      <td>0.286200</td>\n",
       "      <td>0.128686</td>\n",
       "      <td>1.280392</td>\n",
       "      <td>-0.301116</td>\n",
       "      <td>-0.673309</td>\n",
       "      <td>-0.069611</td>\n",
       "      <td>-0.009597</td>\n",
       "      <td>-28.38</td>\n",
       "      <td>0</td>\n",
       "    </tr>\n",
       "    <tr>\n",
       "      <th>1</th>\n",
       "      <td>-44300.0</td>\n",
       "      <td>-0.472690</td>\n",
       "      <td>1.869177</td>\n",
       "      <td>-0.277741</td>\n",
       "      <td>1.122846</td>\n",
       "      <td>1.526166</td>\n",
       "      <td>0.262325</td>\n",
       "      <td>0.242333</td>\n",
       "      <td>-0.006108</td>\n",
       "      <td>-1.659659</td>\n",
       "      <td>...</td>\n",
       "      <td>-0.387745</td>\n",
       "      <td>-0.434629</td>\n",
       "      <td>0.512801</td>\n",
       "      <td>-0.110994</td>\n",
       "      <td>-0.350975</td>\n",
       "      <td>-0.073826</td>\n",
       "      <td>0.035071</td>\n",
       "      <td>-0.080140</td>\n",
       "      <td>-407.00</td>\n",
       "      <td>0</td>\n",
       "    </tr>\n",
       "    <tr>\n",
       "      <th>2</th>\n",
       "      <td>-44301.0</td>\n",
       "      <td>0.277314</td>\n",
       "      <td>3.455314</td>\n",
       "      <td>-0.722444</td>\n",
       "      <td>-0.428284</td>\n",
       "      <td>2.512025</td>\n",
       "      <td>-0.540760</td>\n",
       "      <td>0.345111</td>\n",
       "      <td>-0.013655</td>\n",
       "      <td>-0.233508</td>\n",
       "      <td>...</td>\n",
       "      <td>-0.630255</td>\n",
       "      <td>-0.388096</td>\n",
       "      <td>0.697177</td>\n",
       "      <td>-0.523084</td>\n",
       "      <td>-0.069830</td>\n",
       "      <td>0.196482</td>\n",
       "      <td>0.052145</td>\n",
       "      <td>-0.166683</td>\n",
       "      <td>-800.00</td>\n",
       "      <td>0</td>\n",
       "    </tr>\n",
       "    <tr>\n",
       "      <th>3</th>\n",
       "      <td>-44301.0</td>\n",
       "      <td>-1.061770</td>\n",
       "      <td>-0.105481</td>\n",
       "      <td>-0.226711</td>\n",
       "      <td>-0.929524</td>\n",
       "      <td>-0.100625</td>\n",
       "      <td>-0.300173</td>\n",
       "      <td>0.029912</td>\n",
       "      <td>-0.205934</td>\n",
       "      <td>0.233190</td>\n",
       "      <td>...</td>\n",
       "      <td>-0.147422</td>\n",
       "      <td>-0.426827</td>\n",
       "      <td>0.070413</td>\n",
       "      <td>0.283090</td>\n",
       "      <td>-0.487739</td>\n",
       "      <td>0.288220</td>\n",
       "      <td>-0.035644</td>\n",
       "      <td>-0.007305</td>\n",
       "      <td>-31.28</td>\n",
       "      <td>0</td>\n",
       "    </tr>\n",
       "    <tr>\n",
       "      <th>4</th>\n",
       "      <td>-44302.0</td>\n",
       "      <td>4.622715</td>\n",
       "      <td>2.621667</td>\n",
       "      <td>0.872085</td>\n",
       "      <td>0.374010</td>\n",
       "      <td>1.456021</td>\n",
       "      <td>-1.531875</td>\n",
       "      <td>-0.162837</td>\n",
       "      <td>-1.331547</td>\n",
       "      <td>-0.340639</td>\n",
       "      <td>...</td>\n",
       "      <td>0.221196</td>\n",
       "      <td>0.804017</td>\n",
       "      <td>1.309062</td>\n",
       "      <td>1.505088</td>\n",
       "      <td>0.260178</td>\n",
       "      <td>-0.861611</td>\n",
       "      <td>-0.130562</td>\n",
       "      <td>1.023781</td>\n",
       "      <td>-522.16</td>\n",
       "      <td>0</td>\n",
       "    </tr>\n",
       "  </tbody>\n",
       "</table>\n",
       "<p>5 rows × 31 columns</p>\n",
       "</div>"
      ],
      "text/plain": [
       "   Occurrence       PP1       PP2       PP3       PP4       PP5       PP6  \\\n",
       "0    -44299.0 -1.239996  0.985194 -1.005080  0.251323  0.872854 -1.677811   \n",
       "1    -44300.0 -0.472690  1.869177 -0.277741  1.122846  1.526166  0.262325   \n",
       "2    -44301.0  0.277314  3.455314 -0.722444 -0.428284  2.512025 -0.540760   \n",
       "3    -44301.0 -1.061770 -0.105481 -0.226711 -0.929524 -0.100625 -0.300173   \n",
       "4    -44302.0  4.622715  2.621667  0.872085  0.374010  1.456021 -1.531875   \n",
       "\n",
       "        PP7       PP8       PP9  ...      PP21      PP22      PP23      PP24  \\\n",
       "0  1.451311 -0.478908 -0.009459  ...  0.387768  0.286200  0.128686  1.280392   \n",
       "1  0.242333 -0.006108 -1.659659  ... -0.387745 -0.434629  0.512801 -0.110994   \n",
       "2  0.345111 -0.013655 -0.233508  ... -0.630255 -0.388096  0.697177 -0.523084   \n",
       "3  0.029912 -0.205934  0.233190  ... -0.147422 -0.426827  0.070413  0.283090   \n",
       "4 -0.162837 -1.331547 -0.340639  ...  0.221196  0.804017  1.309062  1.505088   \n",
       "\n",
       "       PP25      PP26      PP27      PP28  Withdrawal  Fraud  \n",
       "0 -0.301116 -0.673309 -0.069611 -0.009597      -28.38      0  \n",
       "1 -0.350975 -0.073826  0.035071 -0.080140     -407.00      0  \n",
       "2 -0.069830  0.196482  0.052145 -0.166683     -800.00      0  \n",
       "3 -0.487739  0.288220 -0.035644 -0.007305      -31.28      0  \n",
       "4  0.260178 -0.861611 -0.130562  1.023781     -522.16      0  \n",
       "\n",
       "[5 rows x 31 columns]"
      ]
     },
     "execution_count": 2,
     "metadata": {},
     "output_type": "execute_result"
    }
   ],
   "source": [
    "raw_data = pd.read_csv('fraud.csv')\n",
    "\n",
    "print(raw_data.shape)\n",
    "\n",
    "raw_data.head()"
   ]
  },
  {
   "cell_type": "markdown",
   "metadata": {},
   "source": [
    "Checking for null data."
   ]
  },
  {
   "cell_type": "code",
   "execution_count": 3,
   "metadata": {},
   "outputs": [
    {
     "data": {
      "text/plain": [
       "Occurrence    0\n",
       "PP1           0\n",
       "PP2           0\n",
       "PP3           0\n",
       "PP4           0\n",
       "PP5           0\n",
       "PP6           0\n",
       "PP7           0\n",
       "PP8           0\n",
       "PP9           0\n",
       "PP10          0\n",
       "PP11          0\n",
       "PP12          0\n",
       "PP13          0\n",
       "PP14          0\n",
       "PP15          0\n",
       "PP16          0\n",
       "PP17          0\n",
       "PP18          0\n",
       "PP19          0\n",
       "PP20          0\n",
       "PP21          0\n",
       "PP22          0\n",
       "PP23          0\n",
       "PP24          0\n",
       "PP25          0\n",
       "PP26          0\n",
       "PP27          0\n",
       "PP28          0\n",
       "Withdrawal    0\n",
       "Fraud         0\n",
       "dtype: int64"
      ]
     },
     "execution_count": 3,
     "metadata": {},
     "output_type": "execute_result"
    }
   ],
   "source": [
    "raw_data.isna().sum()"
   ]
  },
  {
   "cell_type": "markdown",
   "metadata": {},
   "source": [
    "Check the behavior, such as standard deviaton."
   ]
  },
  {
   "cell_type": "code",
   "execution_count": 4,
   "metadata": {},
   "outputs": [
    {
     "data": {
      "text/html": [
       "<div>\n",
       "<style scoped>\n",
       "    .dataframe tbody tr th:only-of-type {\n",
       "        vertical-align: middle;\n",
       "    }\n",
       "\n",
       "    .dataframe tbody tr th {\n",
       "        vertical-align: top;\n",
       "    }\n",
       "\n",
       "    .dataframe thead th {\n",
       "        text-align: right;\n",
       "    }\n",
       "</style>\n",
       "<table border=\"1\" class=\"dataframe\">\n",
       "  <thead>\n",
       "    <tr style=\"text-align: right;\">\n",
       "      <th></th>\n",
       "      <th>Occurrence</th>\n",
       "      <th>PP1</th>\n",
       "      <th>PP2</th>\n",
       "      <th>PP3</th>\n",
       "      <th>PP4</th>\n",
       "      <th>PP5</th>\n",
       "      <th>PP6</th>\n",
       "      <th>PP7</th>\n",
       "      <th>PP8</th>\n",
       "      <th>PP9</th>\n",
       "      <th>...</th>\n",
       "      <th>PP21</th>\n",
       "      <th>PP22</th>\n",
       "      <th>PP23</th>\n",
       "      <th>PP24</th>\n",
       "      <th>PP25</th>\n",
       "      <th>PP26</th>\n",
       "      <th>PP27</th>\n",
       "      <th>PP28</th>\n",
       "      <th>Withdrawal</th>\n",
       "      <th>Fraud</th>\n",
       "    </tr>\n",
       "  </thead>\n",
       "  <tbody>\n",
       "    <tr>\n",
       "      <th>count</th>\n",
       "      <td>150000.000000</td>\n",
       "      <td>150000.000000</td>\n",
       "      <td>150000.000000</td>\n",
       "      <td>150000.000000</td>\n",
       "      <td>150000.000000</td>\n",
       "      <td>150000.000000</td>\n",
       "      <td>150000.000000</td>\n",
       "      <td>150000.000000</td>\n",
       "      <td>150000.000000</td>\n",
       "      <td>150000.000000</td>\n",
       "      <td>...</td>\n",
       "      <td>150000.000000</td>\n",
       "      <td>150000.000000</td>\n",
       "      <td>150000.000000</td>\n",
       "      <td>150000.000000</td>\n",
       "      <td>150000.000000</td>\n",
       "      <td>150000.000000</td>\n",
       "      <td>150000.000000</td>\n",
       "      <td>150000.000000</td>\n",
       "      <td>150000.000000</td>\n",
       "      <td>150000.000000</td>\n",
       "    </tr>\n",
       "    <tr>\n",
       "      <th>mean</th>\n",
       "      <td>-84550.214580</td>\n",
       "      <td>0.058999</td>\n",
       "      <td>-0.000790</td>\n",
       "      <td>-0.192183</td>\n",
       "      <td>-0.037416</td>\n",
       "      <td>0.061588</td>\n",
       "      <td>-0.025715</td>\n",
       "      <td>0.026695</td>\n",
       "      <td>-0.004257</td>\n",
       "      <td>0.028148</td>\n",
       "      <td>...</td>\n",
       "      <td>0.009957</td>\n",
       "      <td>0.027398</td>\n",
       "      <td>0.007275</td>\n",
       "      <td>-0.002739</td>\n",
       "      <td>-0.035211</td>\n",
       "      <td>-0.001127</td>\n",
       "      <td>-0.000535</td>\n",
       "      <td>-0.001028</td>\n",
       "      <td>-88.602261</td>\n",
       "      <td>0.001580</td>\n",
       "    </tr>\n",
       "    <tr>\n",
       "      <th>std</th>\n",
       "      <td>27710.748503</td>\n",
       "      <td>1.894453</td>\n",
       "      <td>1.623712</td>\n",
       "      <td>1.406053</td>\n",
       "      <td>1.397615</td>\n",
       "      <td>1.341265</td>\n",
       "      <td>1.310820</td>\n",
       "      <td>1.194923</td>\n",
       "      <td>1.205874</td>\n",
       "      <td>1.106154</td>\n",
       "      <td>...</td>\n",
       "      <td>0.739429</td>\n",
       "      <td>0.707714</td>\n",
       "      <td>0.622620</td>\n",
       "      <td>0.606964</td>\n",
       "      <td>0.506130</td>\n",
       "      <td>0.483787</td>\n",
       "      <td>0.397662</td>\n",
       "      <td>0.307684</td>\n",
       "      <td>247.302373</td>\n",
       "      <td>0.039718</td>\n",
       "    </tr>\n",
       "    <tr>\n",
       "      <th>min</th>\n",
       "      <td>-133236.000000</td>\n",
       "      <td>-2.454930</td>\n",
       "      <td>-22.057729</td>\n",
       "      <td>-9.382558</td>\n",
       "      <td>-16.875344</td>\n",
       "      <td>-32.911462</td>\n",
       "      <td>-21.307738</td>\n",
       "      <td>-31.527244</td>\n",
       "      <td>-16.635979</td>\n",
       "      <td>-15.594995</td>\n",
       "      <td>...</td>\n",
       "      <td>-27.202839</td>\n",
       "      <td>-10.503090</td>\n",
       "      <td>-19.002942</td>\n",
       "      <td>-4.022866</td>\n",
       "      <td>-7.519589</td>\n",
       "      <td>-3.220178</td>\n",
       "      <td>-12.152401</td>\n",
       "      <td>-22.620072</td>\n",
       "      <td>-19656.530000</td>\n",
       "      <td>0.000000</td>\n",
       "    </tr>\n",
       "    <tr>\n",
       "      <th>25%</th>\n",
       "      <td>-115169.000000</td>\n",
       "      <td>-1.243456</td>\n",
       "      <td>-0.802149</td>\n",
       "      <td>-1.138473</td>\n",
       "      <td>-0.812624</td>\n",
       "      <td>-0.526469</td>\n",
       "      <td>-0.424574</td>\n",
       "      <td>-0.527260</td>\n",
       "      <td>-0.340863</td>\n",
       "      <td>-0.565387</td>\n",
       "      <td>...</td>\n",
       "      <td>-0.165038</td>\n",
       "      <td>-0.466423</td>\n",
       "      <td>-0.128298</td>\n",
       "      <td>-0.431560</td>\n",
       "      <td>-0.369398</td>\n",
       "      <td>-0.247606</td>\n",
       "      <td>-0.090965</td>\n",
       "      <td>-0.078861</td>\n",
       "      <td>-77.662500</td>\n",
       "      <td>0.000000</td>\n",
       "    </tr>\n",
       "    <tr>\n",
       "      <th>50%</th>\n",
       "      <td>-77502.500000</td>\n",
       "      <td>0.042647</td>\n",
       "      <td>-0.082193</td>\n",
       "      <td>-0.359076</td>\n",
       "      <td>-0.039549</td>\n",
       "      <td>0.124219</td>\n",
       "      <td>0.245177</td>\n",
       "      <td>-0.013129</td>\n",
       "      <td>-0.037083</td>\n",
       "      <td>0.095975</td>\n",
       "      <td>...</td>\n",
       "      <td>0.033794</td>\n",
       "      <td>0.014600</td>\n",
       "      <td>0.020008</td>\n",
       "      <td>-0.049357</td>\n",
       "      <td>-0.071030</td>\n",
       "      <td>0.057265</td>\n",
       "      <td>-0.004792</td>\n",
       "      <td>-0.016759</td>\n",
       "      <td>-22.040000</td>\n",
       "      <td>0.000000</td>\n",
       "    </tr>\n",
       "    <tr>\n",
       "      <th>75%</th>\n",
       "      <td>-61713.750000</td>\n",
       "      <td>0.952018</td>\n",
       "      <td>0.588600</td>\n",
       "      <td>0.555060</td>\n",
       "      <td>0.816575</td>\n",
       "      <td>0.751890</td>\n",
       "      <td>0.734024</td>\n",
       "      <td>0.564334</td>\n",
       "      <td>0.193112</td>\n",
       "      <td>0.678488</td>\n",
       "      <td>...</td>\n",
       "      <td>0.225362</td>\n",
       "      <td>0.540801</td>\n",
       "      <td>0.164620</td>\n",
       "      <td>0.348762</td>\n",
       "      <td>0.274183</td>\n",
       "      <td>0.331361</td>\n",
       "      <td>0.068544</td>\n",
       "      <td>0.048427</td>\n",
       "      <td>-5.410000</td>\n",
       "      <td>0.000000</td>\n",
       "    </tr>\n",
       "    <tr>\n",
       "      <th>max</th>\n",
       "      <td>-44299.000000</td>\n",
       "      <td>36.802320</td>\n",
       "      <td>63.344698</td>\n",
       "      <td>33.680984</td>\n",
       "      <td>5.683171</td>\n",
       "      <td>31.356750</td>\n",
       "      <td>21.929312</td>\n",
       "      <td>43.557242</td>\n",
       "      <td>73.216718</td>\n",
       "      <td>13.434066</td>\n",
       "      <td>...</td>\n",
       "      <td>34.830382</td>\n",
       "      <td>10.933144</td>\n",
       "      <td>44.807735</td>\n",
       "      <td>2.824849</td>\n",
       "      <td>10.295397</td>\n",
       "      <td>2.604551</td>\n",
       "      <td>22.565679</td>\n",
       "      <td>11.710896</td>\n",
       "      <td>-0.000000</td>\n",
       "      <td>1.000000</td>\n",
       "    </tr>\n",
       "  </tbody>\n",
       "</table>\n",
       "<p>8 rows × 31 columns</p>\n",
       "</div>"
      ],
      "text/plain": [
       "          Occurrence            PP1            PP2            PP3  \\\n",
       "count  150000.000000  150000.000000  150000.000000  150000.000000   \n",
       "mean   -84550.214580       0.058999      -0.000790      -0.192183   \n",
       "std     27710.748503       1.894453       1.623712       1.406053   \n",
       "min   -133236.000000      -2.454930     -22.057729      -9.382558   \n",
       "25%   -115169.000000      -1.243456      -0.802149      -1.138473   \n",
       "50%    -77502.500000       0.042647      -0.082193      -0.359076   \n",
       "75%    -61713.750000       0.952018       0.588600       0.555060   \n",
       "max    -44299.000000      36.802320      63.344698      33.680984   \n",
       "\n",
       "                 PP4            PP5            PP6            PP7  \\\n",
       "count  150000.000000  150000.000000  150000.000000  150000.000000   \n",
       "mean       -0.037416       0.061588      -0.025715       0.026695   \n",
       "std         1.397615       1.341265       1.310820       1.194923   \n",
       "min       -16.875344     -32.911462     -21.307738     -31.527244   \n",
       "25%        -0.812624      -0.526469      -0.424574      -0.527260   \n",
       "50%        -0.039549       0.124219       0.245177      -0.013129   \n",
       "75%         0.816575       0.751890       0.734024       0.564334   \n",
       "max         5.683171      31.356750      21.929312      43.557242   \n",
       "\n",
       "                 PP8            PP9  ...           PP21           PP22  \\\n",
       "count  150000.000000  150000.000000  ...  150000.000000  150000.000000   \n",
       "mean       -0.004257       0.028148  ...       0.009957       0.027398   \n",
       "std         1.205874       1.106154  ...       0.739429       0.707714   \n",
       "min       -16.635979     -15.594995  ...     -27.202839     -10.503090   \n",
       "25%        -0.340863      -0.565387  ...      -0.165038      -0.466423   \n",
       "50%        -0.037083       0.095975  ...       0.033794       0.014600   \n",
       "75%         0.193112       0.678488  ...       0.225362       0.540801   \n",
       "max        73.216718      13.434066  ...      34.830382      10.933144   \n",
       "\n",
       "                PP23           PP24           PP25           PP26  \\\n",
       "count  150000.000000  150000.000000  150000.000000  150000.000000   \n",
       "mean        0.007275      -0.002739      -0.035211      -0.001127   \n",
       "std         0.622620       0.606964       0.506130       0.483787   \n",
       "min       -19.002942      -4.022866      -7.519589      -3.220178   \n",
       "25%        -0.128298      -0.431560      -0.369398      -0.247606   \n",
       "50%         0.020008      -0.049357      -0.071030       0.057265   \n",
       "75%         0.164620       0.348762       0.274183       0.331361   \n",
       "max        44.807735       2.824849      10.295397       2.604551   \n",
       "\n",
       "                PP27           PP28     Withdrawal          Fraud  \n",
       "count  150000.000000  150000.000000  150000.000000  150000.000000  \n",
       "mean       -0.000535      -0.001028     -88.602261       0.001580  \n",
       "std         0.397662       0.307684     247.302373       0.039718  \n",
       "min       -12.152401     -22.620072  -19656.530000       0.000000  \n",
       "25%        -0.090965      -0.078861     -77.662500       0.000000  \n",
       "50%        -0.004792      -0.016759     -22.040000       0.000000  \n",
       "75%         0.068544       0.048427      -5.410000       0.000000  \n",
       "max        22.565679      11.710896      -0.000000       1.000000  \n",
       "\n",
       "[8 rows x 31 columns]"
      ]
     },
     "execution_count": 4,
     "metadata": {},
     "output_type": "execute_result"
    }
   ],
   "source": [
    "raw_data.describe()"
   ]
  },
  {
   "cell_type": "markdown",
   "metadata": {},
   "source": [
    "Showing the number os occurences per fraud classification, expliciting the unbalance."
   ]
  },
  {
   "cell_type": "code",
   "execution_count": 5,
   "metadata": {},
   "outputs": [
    {
     "data": {
      "text/html": [
       "<div>\n",
       "<style scoped>\n",
       "    .dataframe tbody tr th:only-of-type {\n",
       "        vertical-align: middle;\n",
       "    }\n",
       "\n",
       "    .dataframe tbody tr th {\n",
       "        vertical-align: top;\n",
       "    }\n",
       "\n",
       "    .dataframe thead th {\n",
       "        text-align: right;\n",
       "    }\n",
       "</style>\n",
       "<table border=\"1\" class=\"dataframe\">\n",
       "  <thead>\n",
       "    <tr style=\"text-align: right;\">\n",
       "      <th></th>\n",
       "      <th>Occurrence</th>\n",
       "    </tr>\n",
       "    <tr>\n",
       "      <th>Fraud</th>\n",
       "      <th></th>\n",
       "    </tr>\n",
       "  </thead>\n",
       "  <tbody>\n",
       "    <tr>\n",
       "      <th>0</th>\n",
       "      <td>149763</td>\n",
       "    </tr>\n",
       "    <tr>\n",
       "      <th>1</th>\n",
       "      <td>237</td>\n",
       "    </tr>\n",
       "  </tbody>\n",
       "</table>\n",
       "</div>"
      ],
      "text/plain": [
       "       Occurrence\n",
       "Fraud            \n",
       "0          149763\n",
       "1             237"
      ]
     },
     "execution_count": 5,
     "metadata": {},
     "output_type": "execute_result"
    }
   ],
   "source": [
    "raw_data[['Occurrence', 'Fraud']].groupby(by='Fraud').count()"
   ]
  },
  {
   "cell_type": "code",
   "execution_count": 6,
   "metadata": {},
   "outputs": [],
   "source": [
    "x, y = raw_data.drop(['Occurrence','Fraud'], axis=1), raw_data[['Fraud']]"
   ]
  },
  {
   "cell_type": "code",
   "execution_count": 7,
   "metadata": {},
   "outputs": [],
   "source": [
    "scaler = MinMaxScaler()\n",
    "\n",
    "x = pd.DataFrame(scaler.fit_transform(x))"
   ]
  },
  {
   "cell_type": "code",
   "execution_count": 8,
   "metadata": {},
   "outputs": [
    {
     "data": {
      "image/png": "[encoded data removed]",
      "text/plain": [
       "<Figure size 432x288 with 2 Axes>"
      ]
     },
     "metadata": {
      "needs_background": "light"
     },
     "output_type": "display_data"
    }
   ],
   "source": [
    "corr = x.corr()\n",
    "\n",
    "ax = sns.heatmap(corr, linewidth=0.5)\n",
    "plt.show()"
   ]
  },
  {
   "cell_type": "markdown",
   "metadata": {},
   "source": [
    "Splitting the data in a stratified way, so that there is no risk of nos set ending up with zero fraud occurrences."
   ]
  },
  {
   "cell_type": "code",
   "execution_count": 9,
   "metadata": {},
   "outputs": [
    {
     "name": "stdout",
     "output_type": "stream",
     "text": [
      "(105000, 29) (45000, 29) (105000, 1) (45000, 1)\n"
     ]
    }
   ],
   "source": [
    "x_train, x_test, y_train, y_test = train_test_split(x, y, train_size=0.7, test_size=0.3, stratify=y)\n",
    "\n",
    "print(x_train.shape, x_test.shape, y_train.shape, y_test.shape)"
   ]
  },
  {
   "cell_type": "markdown",
   "metadata": {},
   "source": [
    "## Tests"
   ]
  },
  {
   "cell_type": "markdown",
   "metadata": {},
   "source": [
    "Function that will be used to run and print metrics for a given model"
   ]
  },
  {
   "cell_type": "code",
   "execution_count": 10,
   "metadata": {},
   "outputs": [],
   "source": [
    "def run_and_show_results(model, x_test, y_test):\n",
    "    pred = model.predict(x_test)\n",
    "    matrix = confusion_matrix(y_test, pred, labels=[0, 1])\n",
    "    \n",
    "    f1 = round(f1_score(y_test, pred), 5)\n",
    "    precision = round(precision_score(y_test, pred), 5)\n",
    "    recall = round(recall_score(y_test, pred), 5)\n",
    "    accuracy = round(accuracy_score(y_test, pred), 5)\n",
    "    roc_auc = round(roc_auc_score(y_test, pred), 5)\n",
    "\n",
    "    print(f'F1: \\t\\t{f1} \\nPrecision: \\t{precision} \\nRecall: \\t{recall} \\nAccuracy: \\t{accuracy} \\nROC_AUC: \\t{roc_auc} \\n')\n",
    "\n",
    "    ConfusionMatrixDisplay(matrix, [0, 1]).plot()\n",
    "    plt.show()"
   ]
  },
  {
   "cell_type": "markdown",
   "metadata": {},
   "source": [
    "Testing the Logistic Regression"
   ]
  },
  {
   "cell_type": "code",
   "execution_count": 11,
   "metadata": {},
   "outputs": [
    {
     "name": "stdout",
     "output_type": "stream",
     "text": [
      "F1: \t\t0.65455 \n",
      "Precision: \t0.92308 \n",
      "Recall: \t0.50704 \n",
      "Accuracy: \t0.99916 \n",
      "ROC_AUC: \t0.75349 \n",
      "\n"
     ]
    },
    {
     "data": {
      "image/png": "[encoded data removed]",
      "text/plain": [
       "<Figure size 432x288 with 2 Axes>"
      ]
     },
     "metadata": {
      "needs_background": "light"
     },
     "output_type": "display_data"
    }
   ],
   "source": [
    "lr = LogisticRegression(solver='lbfgs', max_iter=1000)\n",
    "\n",
    "lr.fit(x_train, y_train.values.ravel())\n",
    "\n",
    "run_and_show_results(lr, x_test, y_test)"
   ]
  },
  {
   "cell_type": "markdown",
   "metadata": {},
   "source": [
    "Testing the Random Forest"
   ]
  },
  {
   "cell_type": "code",
   "execution_count": 12,
   "metadata": {},
   "outputs": [
    {
     "name": "stdout",
     "output_type": "stream",
     "text": [
      "F1: \t\t0.77165 \n",
      "Precision: \t0.875 \n",
      "Recall: \t0.69014 \n",
      "Accuracy: \t0.99936 \n",
      "ROC_AUC: \t0.84499 \n",
      "\n"
     ]
    },
    {
     "data": {
      "image/png": "[encoded data removed]",
      "text/plain": [
       "<Figure size 432x288 with 2 Axes>"
      ]
     },
     "metadata": {
      "needs_background": "light"
     },
     "output_type": "display_data"
    }
   ],
   "source": [
    "rf = RandomForestClassifier(n_estimators=10, max_depth=5)\n",
    "\n",
    "rf.fit(x_train, y_train.values.ravel())\n",
    "\n",
    "run_and_show_results(rf, x_test, y_test)"
   ]
  },
  {
   "cell_type": "markdown",
   "metadata": {},
   "source": [
    "## Using Recursive Feature Elimination\n",
    "\n",
    "Trying to see if it is possible to use less columns in our classifier, so that we can get better results than the ones above."
   ]
  },
  {
   "cell_type": "code",
   "execution_count": 13,
   "metadata": {},
   "outputs": [],
   "source": [
    "def select_best_features(model, x_train, y_train, x_test):\n",
    "    selector = RFECV(model, cv=5)\n",
    "    selector = selector.fit(x_train, y_train)\n",
    "    \n",
    "    print(f'Selected {len(np.where(selector.support_)[0])} out of {len(selector.support_)} features.')\n",
    "\n",
    "    x_train_rfecv = selector.transform(x_train)\n",
    "    x_test_rfecv = selector.transform(x_test)\n",
    "    \n",
    "    return x_train_rfecv, x_test_rfecv, selector.support_"
   ]
  },
  {
   "cell_type": "code",
   "execution_count": 14,
   "metadata": {},
   "outputs": [
    {
     "name": "stdout",
     "output_type": "stream",
     "text": [
      "Selected 8 out of 29 features.\n",
      "F1: \t\t0.66055 \n",
      "Precision: \t0.94737 \n",
      "Recall: \t0.50704 \n",
      "Accuracy: \t0.99918 \n",
      "ROC_AUC: \t0.7535 \n",
      "\n"
     ]
    },
    {
     "data": {
      "image/png": "[encoded data removed]",
      "text/plain": [
       "<Figure size 432x288 with 2 Axes>"
      ]
     },
     "metadata": {
      "needs_background": "light"
     },
     "output_type": "display_data"
    }
   ],
   "source": [
    "lr_rfecv = LogisticRegression(solver='lbfgs', max_iter=1000)\n",
    "\n",
    "x_train_rfecv, x_test_rfecv, columns_lr = select_best_features(lr_rfecv, x_train, y_train.values.ravel(), x_test)\n",
    "\n",
    "lr_rfecv.fit(x_train_rfecv, y_train.values.ravel())\n",
    "\n",
    "run_and_show_results(lr_rfecv, x_test_rfecv, y_test)"
   ]
  },
  {
   "cell_type": "code",
   "execution_count": 15,
   "metadata": {},
   "outputs": [
    {
     "name": "stdout",
     "output_type": "stream",
     "text": [
      "Selected 11 out of 29 features.\n",
      "F1: \t\t0.77273 \n",
      "Precision: \t0.83607 \n",
      "Recall: \t0.71831 \n",
      "Accuracy: \t0.99933 \n",
      "ROC_AUC: \t0.85904 \n",
      "\n"
     ]
    },
    {
     "data": {
      "image/png": "[encoded data removed]",
      "text/plain": [
       "<Figure size 432x288 with 2 Axes>"
      ]
     },
     "metadata": {
      "needs_background": "light"
     },
     "output_type": "display_data"
    }
   ],
   "source": [
    "rf_rfecv = RandomForestClassifier(n_estimators=10, max_depth=5)\n",
    "\n",
    "x_train_rfecv, x_test_rfecv, columns_rf = select_best_features(rf_rfecv, x_train, y_train.values.ravel(), x_test)\n",
    "\n",
    "rf_rfecv.fit(x_train_rfecv, y_train.values.ravel())\n",
    "\n",
    "run_and_show_results(rf_rfecv, x_test_rfecv, y_test)"
   ]
  },
  {
   "cell_type": "markdown",
   "metadata": {},
   "source": [
    "Using SMOTEENN to combine oversmapling and undersampling to increase the balance of our data.\n",
    "\n",
    "Then I'll test with the resampled test data and also with the normal (imbalanced) test data, having only fitted with resampled train data. I'm doing that in order to check if the metrics are similar in both scenarios."
   ]
  },
  {
   "cell_type": "code",
   "execution_count": 16,
   "metadata": {},
   "outputs": [],
   "source": [
    "sme = SMOTEENN()\n",
    "x_res, y_res = sme.fit_resample(np.array(x), np.array(y.values.ravel()))"
   ]
  },
  {
   "cell_type": "code",
   "execution_count": 17,
   "metadata": {},
   "outputs": [
    {
     "name": "stdout",
     "output_type": "stream",
     "text": [
      "(209493, 29) (89783, 29) (209493,) (89783,)\n"
     ]
    }
   ],
   "source": [
    "x_train_res, x_test_res, y_train_res, y_test_res = train_test_split(x_res, y_res, train_size=0.7, test_size=0.3, stratify=y_res)\n",
    "\n",
    "print(x_train_res.shape, x_test_res.shape, y_train_res.shape, y_test_res.shape)"
   ]
  },
  {
   "cell_type": "code",
   "execution_count": 18,
   "metadata": {},
   "outputs": [
    {
     "name": "stdout",
     "output_type": "stream",
     "text": [
      "F1: \t\t0.93544 \n",
      "Precision: \t0.96899 \n",
      "Recall: \t0.90414 \n",
      "Accuracy: \t0.93755 \n",
      "ROC_AUC: \t0.93758 \n",
      "\n"
     ]
    },
    {
     "data": {
      "image/png": "[encoded data removed]",
      "text/plain": [
       "<Figure size 432x288 with 2 Axes>"
      ]
     },
     "metadata": {
      "needs_background": "light"
     },
     "output_type": "display_data"
    }
   ],
   "source": [
    "lr_res = LogisticRegression(solver='lbfgs', max_iter=1000)\n",
    "\n",
    "lr_res.fit(x_train_res, y_train_res)\n",
    "\n",
    "run_and_show_results(lr_res, x_test_res, y_test_res)"
   ]
  },
  {
   "cell_type": "code",
   "execution_count": 26,
   "metadata": {},
   "outputs": [
    {
     "name": "stdout",
     "output_type": "stream",
     "text": [
      "F1: \t\t0.08939 \n",
      "Precision: \t0.04702 \n",
      "Recall: \t0.90141 \n",
      "Accuracy: \t0.97102 \n",
      "ROC_AUC: \t0.93627 \n",
      "\n"
     ]
    },
    {
     "data": {
      "image/png": "[encoded data removed]",
      "text/plain": [
       "<Figure size 432x288 with 2 Axes>"
      ]
     },
     "metadata": {
      "needs_background": "light"
     },
     "output_type": "display_data"
    }
   ],
   "source": [
    "run_and_show_results(lr_res, x_test, y_test)"
   ]
  },
  {
   "cell_type": "code",
   "execution_count": 19,
   "metadata": {},
   "outputs": [
    {
     "name": "stdout",
     "output_type": "stream",
     "text": [
      "F1: \t\t0.93251 \n",
      "Precision: \t0.99361 \n",
      "Recall: \t0.8785 \n",
      "Accuracy: \t0.93637 \n",
      "ROC_AUC: \t0.93642 \n",
      "\n"
     ]
    },
    {
     "data": {
      "image/png": "[encoded data removed]",
      "text/plain": [
       "<Figure size 432x288 with 2 Axes>"
      ]
     },
     "metadata": {
      "needs_background": "light"
     },
     "output_type": "display_data"
    }
   ],
   "source": [
    "rf_res = RandomForestClassifier(n_estimators=10, max_depth=5)\n",
    "\n",
    "rf_res.fit(x_train_res, y_train_res)\n",
    "\n",
    "run_and_show_results(rf_res, x_test_res, y_test_res)"
   ]
  },
  {
   "cell_type": "code",
   "execution_count": 27,
   "metadata": {},
   "outputs": [
    {
     "name": "stdout",
     "output_type": "stream",
     "text": [
      "F1: \t\t0.26271 \n",
      "Precision: \t0.15461 \n",
      "Recall: \t0.87324 \n",
      "Accuracy: \t0.99227 \n",
      "ROC_AUC: \t0.93285 \n",
      "\n"
     ]
    },
    {
     "data": {
      "image/png": "[encoded data removed]",
      "text/plain": [
       "<Figure size 432x288 with 2 Axes>"
      ]
     },
     "metadata": {
      "needs_background": "light"
     },
     "output_type": "display_data"
    }
   ],
   "source": [
    "run_and_show_results(rf_res, x_test, y_test)"
   ]
  },
  {
   "cell_type": "code",
   "execution_count": 20,
   "metadata": {},
   "outputs": [],
   "source": [
    "def select_columns_and_run(columns, model):\n",
    "    x_train_res_rfecv, x_test_res_rfecv = x_train_res[:, columns], x_test_res[:, columns]\n",
    "    \n",
    "    model.fit(x_train_res_rfecv, y_train_res)\n",
    "\n",
    "    run_and_show_results(model, x_test_res_rfecv, y_test_res)"
   ]
  },
  {
   "cell_type": "markdown",
   "metadata": {},
   "source": [
    "Testing both models using SMOTEENN and features from previous feature selection"
   ]
  },
  {
   "cell_type": "code",
   "execution_count": 21,
   "metadata": {},
   "outputs": [
    {
     "name": "stdout",
     "output_type": "stream",
     "text": [
      "F1: \t\t0.92285 \n",
      "Precision: \t0.97032 \n",
      "Recall: \t0.87981 \n",
      "Accuracy: \t0.92639 \n",
      "ROC_AUC: \t0.92643 \n",
      "\n"
     ]
    },
    {
     "data": {
      "image/png": "[encoded data removed]",
      "text/plain": [
       "<Figure size 432x288 with 2 Axes>"
      ]
     },
     "metadata": {
      "needs_background": "light"
     },
     "output_type": "display_data"
    }
   ],
   "source": [
    "select_columns_and_run(columns_lr, LogisticRegression(solver='lbfgs', max_iter=1000))"
   ]
  },
  {
   "cell_type": "code",
   "execution_count": 22,
   "metadata": {},
   "outputs": [
    {
     "name": "stdout",
     "output_type": "stream",
     "text": [
      "F1: \t\t0.93091 \n",
      "Precision: \t0.98187 \n",
      "Recall: \t0.88497 \n",
      "Accuracy: \t0.93426 \n",
      "ROC_AUC: \t0.9343 \n",
      "\n"
     ]
    },
    {
     "data": {
      "image/png": "[encoded data removed]",
      "text/plain": [
       "<Figure size 432x288 with 2 Axes>"
      ]
     },
     "metadata": {
      "needs_background": "light"
     },
     "output_type": "display_data"
    }
   ],
   "source": [
    "select_columns_and_run(columns_rf, RandomForestClassifier(n_estimators=10, max_depth=5))"
   ]
  }
 ],
 "metadata": {
  "kernelspec": {
   "display_name": "Python 3",
   "language": "python",
   "name": "python3"
  },
  "language_info": {
   "codemirror_mode": {
    "name": "ipython",
    "version": 3
   },
   "file_extension": ".py",
   "mimetype": "text/x-python",
   "name": "python",
   "nbconvert_exporter": "python",
   "pygments_lexer": "ipython3",
   "version": "3.7.7"
  }
 },
 "nbformat": 4,
 "nbformat_minor": 4
}
