{
 "cells": [
  {
   "cell_type": "code",
   "execution_count": 1,
   "metadata": {},
   "outputs": [],
   "source": [
    "import requests\n",
    "import re\n",
    "from urllib.parse import urlparse\n",
    "from bs4 import BeautifulSoup\n",
    "import pandas as pd\n",
    "import json\n",
    "import project_utils as pu"
   ]
  },
  {
   "cell_type": "code",
   "execution_count": 2,
   "metadata": {},
   "outputs": [
    {
     "data": {
      "text/html": [
       "<div>\n",
       "<style scoped>\n",
       "    .dataframe tbody tr th:only-of-type {\n",
       "        vertical-align: middle;\n",
       "    }\n",
       "\n",
       "    .dataframe tbody tr th {\n",
       "        vertical-align: top;\n",
       "    }\n",
       "\n",
       "    .dataframe thead th {\n",
       "        text-align: right;\n",
       "    }\n",
       "</style>\n",
       "<table border=\"1\" class=\"dataframe\">\n",
       "  <thead>\n",
       "    <tr style=\"text-align: right;\">\n",
       "      <th></th>\n",
       "      <th>Celebrity</th>\n",
       "    </tr>\n",
       "  </thead>\n",
       "  <tbody>\n",
       "    <tr>\n",
       "      <th>0</th>\n",
       "      <td>Cristiano Ronaldo</td>\n",
       "    </tr>\n",
       "    <tr>\n",
       "      <th>1</th>\n",
       "      <td>Ariana Grande</td>\n",
       "    </tr>\n",
       "    <tr>\n",
       "      <th>2</th>\n",
       "      <td>Dwayne Johnson</td>\n",
       "    </tr>\n",
       "    <tr>\n",
       "      <th>3</th>\n",
       "      <td>Selena Gomez</td>\n",
       "    </tr>\n",
       "    <tr>\n",
       "      <th>4</th>\n",
       "      <td>Kylie Jenner</td>\n",
       "    </tr>\n",
       "    <tr>\n",
       "      <th>5</th>\n",
       "      <td>Lionel Messi</td>\n",
       "    </tr>\n",
       "    <tr>\n",
       "      <th>6</th>\n",
       "      <td>Beyoncé</td>\n",
       "    </tr>\n",
       "    <tr>\n",
       "      <th>7</th>\n",
       "      <td>Neymar</td>\n",
       "    </tr>\n",
       "    <tr>\n",
       "      <th>8</th>\n",
       "      <td>Justin Bieber</td>\n",
       "    </tr>\n",
       "    <tr>\n",
       "      <th>9</th>\n",
       "      <td>Taylor Swift</td>\n",
       "    </tr>\n",
       "  </tbody>\n",
       "</table>\n",
       "</div>"
      ],
      "text/plain": [
       "           Celebrity\n",
       "0  Cristiano Ronaldo\n",
       "1      Ariana Grande\n",
       "2     Dwayne Johnson\n",
       "3       Selena Gomez\n",
       "4       Kylie Jenner\n",
       "5       Lionel Messi\n",
       "6            Beyoncé\n",
       "7             Neymar\n",
       "8      Justin Bieber\n",
       "9       Taylor Swift"
      ]
     },
     "execution_count": 2,
     "metadata": {},
     "output_type": "execute_result"
    }
   ],
   "source": [
    "data = pd.read_csv('celebrities.csv')\n",
    "\n",
    "data"
   ]
  },
  {
   "cell_type": "markdown",
   "metadata": {},
   "source": [
    "Collecting the HTMLs for each social media search, which we'll use to find each social media URL."
   ]
  },
  {
   "cell_type": "code",
   "execution_count": 3,
   "metadata": {},
   "outputs": [],
   "source": [
    "social_media_search_html_dict = {}\n",
    "\n",
    "for celeb in data.Celebrity:\n",
    "    social_media_search_html_dict[celeb] = pu.get_social_media_search_html_list(celeb)"
   ]
  },
  {
   "cell_type": "markdown",
   "metadata": {},
   "source": [
    "Checking the outputs, if response == 200, it means we're good to go."
   ]
  },
  {
   "cell_type": "code",
   "execution_count": 4,
   "metadata": {},
   "outputs": [
    {
     "data": {
      "text/plain": [
       "{'Cristiano Ronaldo': [<Response [200]>, <Response [200]>],\n",
       " 'Ariana Grande': [<Response [200]>, <Response [200]>],\n",
       " 'Dwayne Johnson': [<Response [200]>, <Response [200]>],\n",
       " 'Selena Gomez': [<Response [200]>, <Response [200]>],\n",
       " 'Kylie Jenner': [<Response [200]>, <Response [200]>],\n",
       " 'Lionel Messi': [<Response [200]>, <Response [200]>],\n",
       " 'Beyoncé': [<Response [200]>, <Response [200]>],\n",
       " 'Neymar': [<Response [200]>, <Response [200]>],\n",
       " 'Justin Bieber': [<Response [200]>, <Response [200]>],\n",
       " 'Taylor Swift': [<Response [200]>, <Response [200]>]}"
      ]
     },
     "execution_count": 4,
     "metadata": {},
     "output_type": "execute_result"
    }
   ],
   "source": [
    "social_media_search_html_dict"
   ]
  },
  {
   "cell_type": "markdown",
   "metadata": {},
   "source": [
    "Creating a new DataFrame with all the celebrities and the URLs for their social media pages"
   ]
  },
  {
   "cell_type": "code",
   "execution_count": 5,
   "metadata": {},
   "outputs": [
    {
     "data": {
      "text/html": [
       "<div>\n",
       "<style scoped>\n",
       "    .dataframe tbody tr th:only-of-type {\n",
       "        vertical-align: middle;\n",
       "    }\n",
       "\n",
       "    .dataframe tbody tr th {\n",
       "        vertical-align: top;\n",
       "    }\n",
       "\n",
       "    .dataframe thead th {\n",
       "        text-align: right;\n",
       "    }\n",
       "</style>\n",
       "<table border=\"1\" class=\"dataframe\">\n",
       "  <thead>\n",
       "    <tr style=\"text-align: right;\">\n",
       "      <th></th>\n",
       "      <th>Facebook</th>\n",
       "      <th>Instagram</th>\n",
       "      <th>Celebrity</th>\n",
       "    </tr>\n",
       "  </thead>\n",
       "  <tbody>\n",
       "    <tr>\n",
       "      <th>0</th>\n",
       "      <td>https://pt-br.facebook.com/Cristiano/</td>\n",
       "      <td>https://www.instagram.com/cristiano/</td>\n",
       "      <td>Cristiano Ronaldo</td>\n",
       "    </tr>\n",
       "    <tr>\n",
       "      <th>1</th>\n",
       "      <td>https://pt-br.facebook.com/arianagrande</td>\n",
       "      <td>https://www.instagram.com/arianagrande/</td>\n",
       "      <td>Ariana Grande</td>\n",
       "    </tr>\n",
       "    <tr>\n",
       "      <th>2</th>\n",
       "      <td>https://pt-br.facebook.com/DwayneJohnson/</td>\n",
       "      <td>https://www.instagram.com/therock/</td>\n",
       "      <td>Dwayne Johnson</td>\n",
       "    </tr>\n",
       "    <tr>\n",
       "      <th>3</th>\n",
       "      <td>https://pt-br.facebook.com/Selena</td>\n",
       "      <td>https://www.instagram.com/selenagomez/</td>\n",
       "      <td>Selena Gomez</td>\n",
       "    </tr>\n",
       "    <tr>\n",
       "      <th>4</th>\n",
       "      <td>https://pt-br.facebook.com/KylieJenner</td>\n",
       "      <td>https://www.instagram.com/kyliejenner/</td>\n",
       "      <td>Kylie Jenner</td>\n",
       "    </tr>\n",
       "    <tr>\n",
       "      <th>5</th>\n",
       "      <td>https://pt-br.facebook.com/leomessi</td>\n",
       "      <td>https://www.instagram.com/leomessi/</td>\n",
       "      <td>Lionel Messi</td>\n",
       "    </tr>\n",
       "    <tr>\n",
       "      <th>6</th>\n",
       "      <td>https://pt-br.facebook.com/beyonce/</td>\n",
       "      <td>https://www.instagram.com/beyonce/</td>\n",
       "      <td>Beyoncé</td>\n",
       "    </tr>\n",
       "    <tr>\n",
       "      <th>7</th>\n",
       "      <td>https://pt-br.facebook.com/neymarjr/</td>\n",
       "      <td>https://www.instagram.com/neymarjr/</td>\n",
       "      <td>Neymar</td>\n",
       "    </tr>\n",
       "    <tr>\n",
       "      <th>8</th>\n",
       "      <td>https://pt-br.facebook.com/JustinBieber</td>\n",
       "      <td>https://www.instagram.com/justinbieber/</td>\n",
       "      <td>Justin Bieber</td>\n",
       "    </tr>\n",
       "    <tr>\n",
       "      <th>9</th>\n",
       "      <td>https://pt-br.facebook.com/TaylorSwift/</td>\n",
       "      <td>https://www.instagram.com/taylorswift/</td>\n",
       "      <td>Taylor Swift</td>\n",
       "    </tr>\n",
       "  </tbody>\n",
       "</table>\n",
       "</div>"
      ],
      "text/plain": [
       "                                    Facebook  \\\n",
       "0      https://pt-br.facebook.com/Cristiano/   \n",
       "1    https://pt-br.facebook.com/arianagrande   \n",
       "2  https://pt-br.facebook.com/DwayneJohnson/   \n",
       "3          https://pt-br.facebook.com/Selena   \n",
       "4     https://pt-br.facebook.com/KylieJenner   \n",
       "5        https://pt-br.facebook.com/leomessi   \n",
       "6        https://pt-br.facebook.com/beyonce/   \n",
       "7       https://pt-br.facebook.com/neymarjr/   \n",
       "8    https://pt-br.facebook.com/JustinBieber   \n",
       "9    https://pt-br.facebook.com/TaylorSwift/   \n",
       "\n",
       "                                 Instagram          Celebrity  \n",
       "0     https://www.instagram.com/cristiano/  Cristiano Ronaldo  \n",
       "1  https://www.instagram.com/arianagrande/      Ariana Grande  \n",
       "2       https://www.instagram.com/therock/     Dwayne Johnson  \n",
       "3   https://www.instagram.com/selenagomez/       Selena Gomez  \n",
       "4   https://www.instagram.com/kyliejenner/       Kylie Jenner  \n",
       "5      https://www.instagram.com/leomessi/       Lionel Messi  \n",
       "6       https://www.instagram.com/beyonce/            Beyoncé  \n",
       "7      https://www.instagram.com/neymarjr/             Neymar  \n",
       "8  https://www.instagram.com/justinbieber/      Justin Bieber  \n",
       "9   https://www.instagram.com/taylorswift/       Taylor Swift  "
      ]
     },
     "execution_count": 5,
     "metadata": {},
     "output_type": "execute_result"
    }
   ],
   "source": [
    "social_data = None\n",
    "\n",
    "for celeb in data.Celebrity:\n",
    "    if social_data is None:\n",
    "        social_data = pu.get_social_media_url(celeb, social_media_search_html_dict[celeb])\n",
    "    else:\n",
    "        social_data = social_data.append(pu.get_social_media_url(celeb, social_media_search_html_dict[celeb]), ignore_index=True)\n",
    "        \n",
    "social_data.rename(columns={'pt-br.facebook.com': 'Facebook', 'www.instagram.com': 'Instagram'}, inplace=True)\n",
    "\n",
    "social_data"
   ]
  },
  {
   "cell_type": "code",
   "execution_count": 6,
   "metadata": {},
   "outputs": [
    {
     "data": {
      "text/html": [
       "<div>\n",
       "<style scoped>\n",
       "    .dataframe tbody tr th:only-of-type {\n",
       "        vertical-align: middle;\n",
       "    }\n",
       "\n",
       "    .dataframe tbody tr th {\n",
       "        vertical-align: top;\n",
       "    }\n",
       "\n",
       "    .dataframe thead th {\n",
       "        text-align: right;\n",
       "    }\n",
       "</style>\n",
       "<table border=\"1\" class=\"dataframe\">\n",
       "  <thead>\n",
       "    <tr style=\"text-align: right;\">\n",
       "      <th></th>\n",
       "      <th>Facebook</th>\n",
       "      <th>Instagram</th>\n",
       "    </tr>\n",
       "    <tr>\n",
       "      <th>Celebrity</th>\n",
       "      <th></th>\n",
       "      <th></th>\n",
       "    </tr>\n",
       "  </thead>\n",
       "  <tbody>\n",
       "    <tr>\n",
       "      <th>Cristiano Ronaldo</th>\n",
       "      <td>https://pt-br.facebook.com/Cristiano/</td>\n",
       "      <td>https://www.instagram.com/cristiano/</td>\n",
       "    </tr>\n",
       "    <tr>\n",
       "      <th>Ariana Grande</th>\n",
       "      <td>https://pt-br.facebook.com/arianagrande</td>\n",
       "      <td>https://www.instagram.com/arianagrande/</td>\n",
       "    </tr>\n",
       "    <tr>\n",
       "      <th>Dwayne Johnson</th>\n",
       "      <td>https://pt-br.facebook.com/DwayneJohnson/</td>\n",
       "      <td>https://www.instagram.com/therock/</td>\n",
       "    </tr>\n",
       "    <tr>\n",
       "      <th>Selena Gomez</th>\n",
       "      <td>https://pt-br.facebook.com/Selena</td>\n",
       "      <td>https://www.instagram.com/selenagomez/</td>\n",
       "    </tr>\n",
       "    <tr>\n",
       "      <th>Kylie Jenner</th>\n",
       "      <td>https://pt-br.facebook.com/KylieJenner</td>\n",
       "      <td>https://www.instagram.com/kyliejenner/</td>\n",
       "    </tr>\n",
       "  </tbody>\n",
       "</table>\n",
       "</div>"
      ],
      "text/plain": [
       "                                                    Facebook  \\\n",
       "Celebrity                                                      \n",
       "Cristiano Ronaldo      https://pt-br.facebook.com/Cristiano/   \n",
       "Ariana Grande        https://pt-br.facebook.com/arianagrande   \n",
       "Dwayne Johnson     https://pt-br.facebook.com/DwayneJohnson/   \n",
       "Selena Gomez               https://pt-br.facebook.com/Selena   \n",
       "Kylie Jenner          https://pt-br.facebook.com/KylieJenner   \n",
       "\n",
       "                                                 Instagram  \n",
       "Celebrity                                                   \n",
       "Cristiano Ronaldo     https://www.instagram.com/cristiano/  \n",
       "Ariana Grande      https://www.instagram.com/arianagrande/  \n",
       "Dwayne Johnson          https://www.instagram.com/therock/  \n",
       "Selena Gomez        https://www.instagram.com/selenagomez/  \n",
       "Kylie Jenner        https://www.instagram.com/kyliejenner/  "
      ]
     },
     "execution_count": 6,
     "metadata": {},
     "output_type": "execute_result"
    }
   ],
   "source": [
    "social_data.set_index('Celebrity', inplace=True)\n",
    "\n",
    "social_data.head()"
   ]
  },
  {
   "cell_type": "markdown",
   "metadata": {},
   "source": [
    "Getting the HTMLs for each social media URL."
   ]
  },
  {
   "cell_type": "code",
   "execution_count": 7,
   "metadata": {},
   "outputs": [],
   "source": [
    "social_media_html_list = []\n",
    "\n",
    "for i, row in social_data[['Facebook', 'Instagram']].iterrows():\n",
    "    celeb_list = [row.name]\n",
    "    \n",
    "    for site, url in row.iteritems():\n",
    "        celeb_list.append(requests.get(url))\n",
    "\n",
    "    social_media_html_list.append(celeb_list)"
   ]
  },
  {
   "cell_type": "markdown",
   "metadata": {},
   "source": [
    "Checking outputs for response. Reminder: Response [200] == good."
   ]
  },
  {
   "cell_type": "code",
   "execution_count": 8,
   "metadata": {},
   "outputs": [
    {
     "data": {
      "text/plain": [
       "[['Cristiano Ronaldo', <Response [200]>, <Response [200]>],\n",
       " ['Ariana Grande', <Response [200]>, <Response [200]>],\n",
       " ['Dwayne Johnson', <Response [200]>, <Response [200]>],\n",
       " ['Selena Gomez', <Response [200]>, <Response [200]>],\n",
       " ['Kylie Jenner', <Response [200]>, <Response [200]>],\n",
       " ['Lionel Messi', <Response [200]>, <Response [200]>],\n",
       " ['Beyoncé', <Response [200]>, <Response [200]>],\n",
       " ['Neymar', <Response [200]>, <Response [200]>],\n",
       " ['Justin Bieber', <Response [200]>, <Response [200]>],\n",
       " ['Taylor Swift', <Response [200]>, <Response [200]>]]"
      ]
     },
     "execution_count": 8,
     "metadata": {},
     "output_type": "execute_result"
    }
   ],
   "source": [
    "social_media_html_list"
   ]
  },
  {
   "cell_type": "markdown",
   "metadata": {},
   "source": [
    "Transforming `social_media_html_list` into a DataFrame."
   ]
  },
  {
   "cell_type": "code",
   "execution_count": 9,
   "metadata": {},
   "outputs": [
    {
     "data": {
      "text/html": [
       "<div>\n",
       "<style scoped>\n",
       "    .dataframe tbody tr th:only-of-type {\n",
       "        vertical-align: middle;\n",
       "    }\n",
       "\n",
       "    .dataframe tbody tr th {\n",
       "        vertical-align: top;\n",
       "    }\n",
       "\n",
       "    .dataframe thead th {\n",
       "        text-align: right;\n",
       "    }\n",
       "</style>\n",
       "<table border=\"1\" class=\"dataframe\">\n",
       "  <thead>\n",
       "    <tr style=\"text-align: right;\">\n",
       "      <th></th>\n",
       "      <th>Facebook</th>\n",
       "      <th>Instagram</th>\n",
       "    </tr>\n",
       "    <tr>\n",
       "      <th>Celebridade</th>\n",
       "      <th></th>\n",
       "      <th></th>\n",
       "    </tr>\n",
       "  </thead>\n",
       "  <tbody>\n",
       "    <tr>\n",
       "      <th>Cristiano Ronaldo</th>\n",
       "      <td>&lt;Response [200]&gt;</td>\n",
       "      <td>&lt;Response [200]&gt;</td>\n",
       "    </tr>\n",
       "    <tr>\n",
       "      <th>Ariana Grande</th>\n",
       "      <td>&lt;Response [200]&gt;</td>\n",
       "      <td>&lt;Response [200]&gt;</td>\n",
       "    </tr>\n",
       "    <tr>\n",
       "      <th>Dwayne Johnson</th>\n",
       "      <td>&lt;Response [200]&gt;</td>\n",
       "      <td>&lt;Response [200]&gt;</td>\n",
       "    </tr>\n",
       "    <tr>\n",
       "      <th>Selena Gomez</th>\n",
       "      <td>&lt;Response [200]&gt;</td>\n",
       "      <td>&lt;Response [200]&gt;</td>\n",
       "    </tr>\n",
       "    <tr>\n",
       "      <th>Kylie Jenner</th>\n",
       "      <td>&lt;Response [200]&gt;</td>\n",
       "      <td>&lt;Response [200]&gt;</td>\n",
       "    </tr>\n",
       "  </tbody>\n",
       "</table>\n",
       "</div>"
      ],
      "text/plain": [
       "                           Facebook         Instagram\n",
       "Celebridade                                          \n",
       "Cristiano Ronaldo  <Response [200]>  <Response [200]>\n",
       "Ariana Grande      <Response [200]>  <Response [200]>\n",
       "Dwayne Johnson     <Response [200]>  <Response [200]>\n",
       "Selena Gomez       <Response [200]>  <Response [200]>\n",
       "Kylie Jenner       <Response [200]>  <Response [200]>"
      ]
     },
     "execution_count": 9,
     "metadata": {},
     "output_type": "execute_result"
    }
   ],
   "source": [
    "social_media_html_df = pd.DataFrame(social_media_html_list, columns=['Celebridade', 'Facebook', 'Instagram'])\n",
    "\n",
    "social_media_html_df.set_index('Celebridade', inplace=True)\n",
    "\n",
    "social_media_html_df.head()"
   ]
  },
  {
   "cell_type": "markdown",
   "metadata": {},
   "source": [
    "Getting the number of Facebook and Instagram Followers for each person in the dataset."
   ]
  },
  {
   "cell_type": "code",
   "execution_count": 10,
   "metadata": {},
   "outputs": [],
   "source": [
    "followers_data = []\n",
    "\n",
    "for i, row in social_media_html_df.iterrows():\n",
    "    celeb_list = [row.name]\n",
    "    \n",
    "    celeb_list.append(pu.get_facebook_followers(row['Facebook']))\n",
    "        \n",
    "    celeb_list.append(pu.get_instagram_followers(row['Instagram']))\n",
    "    \n",
    "    followers_data.append(celeb_list)"
   ]
  },
  {
   "cell_type": "markdown",
   "metadata": {},
   "source": [
    "Creating a DataFrame and showing the data gathered."
   ]
  },
  {
   "cell_type": "code",
   "execution_count": 11,
   "metadata": {},
   "outputs": [
    {
     "data": {
      "text/html": [
       "<div>\n",
       "<style scoped>\n",
       "    .dataframe tbody tr th:only-of-type {\n",
       "        vertical-align: middle;\n",
       "    }\n",
       "\n",
       "    .dataframe tbody tr th {\n",
       "        vertical-align: top;\n",
       "    }\n",
       "\n",
       "    .dataframe thead th {\n",
       "        text-align: right;\n",
       "    }\n",
       "</style>\n",
       "<table border=\"1\" class=\"dataframe\">\n",
       "  <thead>\n",
       "    <tr style=\"text-align: right;\">\n",
       "      <th></th>\n",
       "      <th>Facebook_Followers</th>\n",
       "      <th>Instagram_Followers</th>\n",
       "    </tr>\n",
       "    <tr>\n",
       "      <th>Celebridade</th>\n",
       "      <th></th>\n",
       "      <th></th>\n",
       "    </tr>\n",
       "  </thead>\n",
       "  <tbody>\n",
       "    <tr>\n",
       "      <th>Cristiano Ronaldo</th>\n",
       "      <td>126387064</td>\n",
       "      <td>218487096</td>\n",
       "    </tr>\n",
       "    <tr>\n",
       "      <th>Ariana Grande</th>\n",
       "      <td>34702119</td>\n",
       "      <td>185512670</td>\n",
       "    </tr>\n",
       "    <tr>\n",
       "      <th>Dwayne Johnson</th>\n",
       "      <td>57871577</td>\n",
       "      <td>183138316</td>\n",
       "    </tr>\n",
       "    <tr>\n",
       "      <th>Selena Gomez</th>\n",
       "      <td>68225527</td>\n",
       "      <td>176647334</td>\n",
       "    </tr>\n",
       "    <tr>\n",
       "      <th>Kylie Jenner</th>\n",
       "      <td>23110546</td>\n",
       "      <td>175619689</td>\n",
       "    </tr>\n",
       "    <tr>\n",
       "      <th>Lionel Messi</th>\n",
       "      <td>93789690</td>\n",
       "      <td>150835477</td>\n",
       "    </tr>\n",
       "    <tr>\n",
       "      <th>Beyoncé</th>\n",
       "      <td>57859571</td>\n",
       "      <td>146162958</td>\n",
       "    </tr>\n",
       "    <tr>\n",
       "      <th>Neymar</th>\n",
       "      <td>59187694</td>\n",
       "      <td>138806255</td>\n",
       "    </tr>\n",
       "    <tr>\n",
       "      <th>Justin Bieber</th>\n",
       "      <td>77998674</td>\n",
       "      <td>135486800</td>\n",
       "    </tr>\n",
       "    <tr>\n",
       "      <th>Taylor Swift</th>\n",
       "      <td>69519072</td>\n",
       "      <td>132396069</td>\n",
       "    </tr>\n",
       "  </tbody>\n",
       "</table>\n",
       "</div>"
      ],
      "text/plain": [
       "                   Facebook_Followers  Instagram_Followers\n",
       "Celebridade                                               \n",
       "Cristiano Ronaldo           126387064            218487096\n",
       "Ariana Grande                34702119            185512670\n",
       "Dwayne Johnson               57871577            183138316\n",
       "Selena Gomez                 68225527            176647334\n",
       "Kylie Jenner                 23110546            175619689\n",
       "Lionel Messi                 93789690            150835477\n",
       "Beyoncé                      57859571            146162958\n",
       "Neymar                       59187694            138806255\n",
       "Justin Bieber                77998674            135486800\n",
       "Taylor Swift                 69519072            132396069"
      ]
     },
     "execution_count": 11,
     "metadata": {},
     "output_type": "execute_result"
    }
   ],
   "source": [
    "followers_data_df = pd.DataFrame(followers_data, columns=['Celebridade', 'Facebook_Followers', 'Instagram_Followers'])\n",
    "\n",
    "followers_data_df.set_index('Celebridade', inplace=True)\n",
    "\n",
    "followers_data_df"
   ]
  }
 ],
 "metadata": {
  "kernelspec": {
   "display_name": "Python 3.7.7 64-bit ('Python37': conda)",
   "language": "python",
   "name": "python37764bitpython37conda9d7d38f35b894ec6a5164c6e5f78fb50"
  },
  "language_info": {
   "codemirror_mode": {
    "name": "ipython",
    "version": 3
   },
   "file_extension": ".py",
   "mimetype": "text/x-python",
   "name": "python",
   "nbconvert_exporter": "python",
   "pygments_lexer": "ipython3",
   "version": "3.7.7"
  }
 },
 "nbformat": 4,
 "nbformat_minor": 4
}
