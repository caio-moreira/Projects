{
 "cells": [
  {
   "cell_type": "markdown",
   "metadata": {},
   "source": [
    "# Using TensorFlow to predict clothing type\n",
    "\n",
    "This notebook is a test of the use of Convolutional Neural Networks to predict clothing types"
   ]
  },
  {
   "cell_type": "markdown",
   "metadata": {},
   "source": [
    "## Imports"
   ]
  },
  {
   "cell_type": "code",
   "execution_count": 1,
   "metadata": {},
   "outputs": [],
   "source": [
    "import tensorflow as tf\n",
    "from sklearn.preprocessing import Binarizer\n",
    "import matplotlib.pyplot as plt"
   ]
  },
  {
   "cell_type": "markdown",
   "metadata": {},
   "source": [
    "## Loading Data\n",
    "\n",
    "The data we'll use is a sample dataset included with TensorFlow called Fashion MNIST, which is a clothing type images dataset, it has 70000 28x28 images, 60000 for training and 10000 for testing, containing some types of clothes like shirts or shoes."
   ]
  },
  {
   "cell_type": "code",
   "execution_count": 2,
   "metadata": {},
   "outputs": [],
   "source": [
    "mnist = tf.keras.datasets.fashion_mnist\n",
    "(train_imgs_raw, train_labels), (test_imgs_raw, test_labels) = mnist.load_data()"
   ]
  },
  {
   "cell_type": "markdown",
   "metadata": {},
   "source": [
    "## Data Preprocessing\n",
    "\n",
    "We need to binarize data so that it will be easily worked on by the model.\n",
    "\n",
    "Since we are going to binarize the data using, which expects 2-dimensional data, we need to do that to each 28x28 matrix of the initially 3-dimensional data.\n",
    "\n",
    "In order to do that, we need to have a copy of the original data, because it is not writeable."
   ]
  },
  {
   "cell_type": "code",
   "execution_count": 3,
   "metadata": {},
   "outputs": [],
   "source": [
    "train_imgs = train_imgs_raw.copy()\n",
    "test_imgs = test_imgs_raw.copy()"
   ]
  },
  {
   "cell_type": "markdown",
   "metadata": {},
   "source": [
    "We are using a 75 threshold to binarize, which means every number higher than 75 (our data ranges from 0 to 255) will beceome 1, else 0.\n",
    "\n",
    "Why 75? after some tests it was the number that showed the best results."
   ]
  },
  {
   "cell_type": "code",
   "execution_count": 4,
   "metadata": {},
   "outputs": [],
   "source": [
    "binarizer = Binarizer(75)\n",
    "\n",
    "for index, matrix in enumerate(train_imgs_raw):\n",
    "    train_imgs[index] = binarizer.fit_transform(matrix)\n",
    "\n",
    "for index, matrix in enumerate(test_imgs_raw):\n",
    "    test_imgs[index] = binarizer.fit_transform(matrix)"
   ]
  },
  {
   "cell_type": "markdown",
   "metadata": {},
   "source": [
    "I'm going to show an exemple of data before and after binarizing so that we can see the difference."
   ]
  },
  {
   "cell_type": "code",
   "execution_count": 5,
   "metadata": {},
   "outputs": [
    {
     "data": {
      "text/plain": [
       "<matplotlib.image.AxesImage at 0x2579edd7160>"
      ]
     },
     "execution_count": 5,
     "metadata": {},
     "output_type": "execute_result"
    },
    {
     "data": {
      "image/png": "[encoded data removed]",
      "text/plain": [
       "<Figure size 432x288 with 1 Axes>"
      ]
     },
     "metadata": {
      "needs_background": "light"
     },
     "output_type": "display_data"
    }
   ],
   "source": [
    "plt.imshow(test_imgs_raw[0])"
   ]
  },
  {
   "cell_type": "code",
   "execution_count": 6,
   "metadata": {},
   "outputs": [
    {
     "data": {
      "text/plain": [
       "<matplotlib.image.AxesImage at 0x2579ee6bef0>"
      ]
     },
     "execution_count": 6,
     "metadata": {},
     "output_type": "execute_result"
    },
    {
     "data": {
      "image/png": "[encoded data removed]",
      "text/plain": [
       "<Figure size 432x288 with 1 Axes>"
      ]
     },
     "metadata": {
      "needs_background": "light"
     },
     "output_type": "display_data"
    }
   ],
   "source": [
    "plt.imshow(test_imgs[0])"
   ]
  },
  {
   "cell_type": "markdown",
   "metadata": {},
   "source": [
    "Since we are going to be using convolutions, we have to reshape data to 4 dimensions so that we don't get any errors because the shape won't be recognized."
   ]
  },
  {
   "cell_type": "code",
   "execution_count": 7,
   "metadata": {},
   "outputs": [],
   "source": [
    "train_imgs = train_imgs.reshape(60000, 28, 28, 1)\n",
    "test_imgs = test_imgs.reshape(10000, 28, 28, 1)"
   ]
  },
  {
   "cell_type": "markdown",
   "metadata": {},
   "source": [
    "## Creating the Model"
   ]
  },
  {
   "cell_type": "code",
   "execution_count": 8,
   "metadata": {},
   "outputs": [],
   "source": [
    "model = tf.keras.models.Sequential()\n",
    "\n",
    "model.add(tf.keras.layers.Conv2D(32, (3,3), activation='relu', input_shape=(28, 28, 1)))\n",
    "model.add(tf.keras.layers.MaxPooling2D(2, 2))\n",
    "\n",
    "model.add(tf.keras.layers.Flatten())\n",
    "\n",
    "model.add(tf.keras.layers.Dense(128, activation='relu'))\n",
    "model.add(tf.keras.layers.Dense(10, activation='softmax'))"
   ]
  },
  {
   "cell_type": "code",
   "execution_count": 9,
   "metadata": {},
   "outputs": [],
   "source": [
    "model.compile(optimizer='adam', loss='sparse_categorical_crossentropy', metrics=['accuracy'])"
   ]
  },
  {
   "cell_type": "code",
   "execution_count": 10,
   "metadata": {},
   "outputs": [
    {
     "name": "stdout",
     "output_type": "stream",
     "text": [
      "Model: \"sequential\"\n",
      "_________________________________________________________________\n",
      "Layer (type)                 Output Shape              Param #   \n",
      "=================================================================\n",
      "conv2d (Conv2D)              (None, 26, 26, 32)        320       \n",
      "_________________________________________________________________\n",
      "max_pooling2d (MaxPooling2D) (None, 13, 13, 32)        0         \n",
      "_________________________________________________________________\n",
      "flatten (Flatten)            (None, 5408)              0         \n",
      "_________________________________________________________________\n",
      "dense (Dense)                (None, 128)               692352    \n",
      "_________________________________________________________________\n",
      "dense_1 (Dense)              (None, 10)                1290      \n",
      "=================================================================\n",
      "Total params: 693,962\n",
      "Trainable params: 693,962\n",
      "Non-trainable params: 0\n",
      "_________________________________________________________________\n"
     ]
    }
   ],
   "source": [
    "model.summary()"
   ]
  },
  {
   "cell_type": "markdown",
   "metadata": {},
   "source": [
    "## Creating Callback\n",
    "\n",
    "I'll define a Callback that stops the training after the model has reached 91% accuracy."
   ]
  },
  {
   "cell_type": "code",
   "execution_count": 11,
   "metadata": {},
   "outputs": [],
   "source": [
    "class CustomCallback(tf.keras.callbacks.Callback):\n",
    "    \"\"\" This is a class that defines a Custom Callback.\n",
    "    \n",
    "    It will be used to stop training when it has reached a certain level of accuracy\n",
    "    \n",
    "    References can be found on https://www.tensorflow.org/versions/r1.15/api_docs/python/tf/keras/callbacks/Callback\n",
    "    \"\"\"\n",
    "    def on_epoch_end(self, epoch, logs):\n",
    "        ''' This function sets a task to happen whenever en epoch has finished during training.\n",
    "        \n",
    "        It will be used to check if accuracy has reached a certain level, if so, stops the model training.\n",
    "        \n",
    "        References can be found on https://www.tensorflow.org/versions/r1.15/api_docs/python/tf/keras/callbacks/Callback#on_epoch_end\n",
    "        \n",
    "        Keyword arguments:\n",
    "            epoch -- integer, index of epoch.\n",
    "            logs -- dict, metric results for this training epoch,\n",
    "                and for the validation epoch if validation is performed.\n",
    "                Validation result keys are prefixed with val_.\n",
    "        '''\n",
    "        \n",
    "        if(logs.get('accuracy') > 0.91):\n",
    "          print(f'\\n91% accuracy reached. Stopping training after {epoch + 1} epochs.')\n",
    "          self.model.stop_training = True"
   ]
  },
  {
   "cell_type": "markdown",
   "metadata": {},
   "source": [
    "## Fitting and Evaluating\n",
    "\n",
    "Calling the fit function for 5 epochs and passing a CustomCallback instance.\n",
    "\n",
    "After that, calling the evaluate function and printing evaluation data."
   ]
  },
  {
   "cell_type": "code",
   "execution_count": 12,
   "metadata": {},
   "outputs": [
    {
     "name": "stdout",
     "output_type": "stream",
     "text": [
      "Train on 60000 samples\n",
      "Epoch 1/5\n",
      "60000/60000 [==============================] - 59s 991us/sample - loss: 0.4397 - accuracy: 0.8401\n",
      "Epoch 2/5\n",
      "60000/60000 [==============================] - 52s 875us/sample - loss: 0.3095 - accuracy: 0.8852\n",
      "Epoch 3/5\n",
      "60000/60000 [==============================] - 49s 822us/sample - loss: 0.2544 - accuracy: 0.9049\n",
      "Epoch 4/5\n",
      "59936/60000 [============================>.] - ETA: 0s - loss: 0.2120 - accuracy: 0.9194\n",
      "91% accuracy reached. Stopping training after 4 epochs.\n",
      "60000/60000 [==============================] - 48s 805us/sample - loss: 0.2119 - accuracy: 0.9194\n"
     ]
    },
    {
     "data": {
      "text/plain": [
       "<tensorflow.python.keras.callbacks.History at 0x2579f0c1320>"
      ]
     },
     "execution_count": 12,
     "metadata": {},
     "output_type": "execute_result"
    }
   ],
   "source": [
    "model.fit(train_imgs, train_labels, epochs=5, callbacks=[CustomCallback()])"
   ]
  },
  {
   "cell_type": "code",
   "execution_count": 13,
   "metadata": {},
   "outputs": [
    {
     "name": "stdout",
     "output_type": "stream",
     "text": [
      "loss: 0.3381506258189678 - accuracy: 0.8819\n"
     ]
    }
   ],
   "source": [
    "evaluation = model.evaluate(test_imgs, test_labels, verbose=0)\n",
    "\n",
    "print('loss:', evaluation[0], '- accuracy:', evaluation[1])"
   ]
  }
 ],
 "metadata": {
  "kernelspec": {
   "display_name": "Python 3",
   "language": "python",
   "name": "python3"
  },
  "language_info": {
   "codemirror_mode": {
    "name": "ipython",
    "version": 3
   },
   "file_extension": ".py",
   "mimetype": "text/x-python",
   "name": "python",
   "nbconvert_exporter": "python",
   "pygments_lexer": "ipython3",
   "version": "3.7.3"
  }
 },
 "nbformat": 4,
 "nbformat_minor": 2
}
